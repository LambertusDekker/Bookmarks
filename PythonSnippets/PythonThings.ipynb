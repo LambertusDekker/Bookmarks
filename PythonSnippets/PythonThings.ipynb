import urllib
import pandas as pd
from sqlalchemy import create_engine
from sqlalchemy import text

server = 'mydatabase.here.windows.net'        # the location
database = 'MY_DB'                            # My DataBase
username = 'USERNAME'                         # USERNAME
port = str(1234)                              # PORTNUMBER
password = "*************"                    # PASSWORD
driver = '{ODBC Driver 17 for SQL Server}'    # this the dialect acording to https://docs.sqlalchemy.org/en/20/core/connections.html

connection_string_1 = 'DRIVER='+driver+';SERVER='+server+';PORT='+port+';UID='+username+';DATABASE='+ database + ';PWD='+ password
connection_string = 'mssql+pyodbc:///?odbc_connect=' + urllib.parse.quote_plus(connection_string_1)

engine = create_engine(connection_string)     # creates the engine and can be re-used to use this database

print("Engine:", engine)
